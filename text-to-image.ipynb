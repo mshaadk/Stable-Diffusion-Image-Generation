{
  "nbformat": 4,
  "nbformat_minor": 0,
  "metadata": {
    "colab": {
      "provenance": [],
      "gpuType": "T4"
    },
    "kernelspec": {
      "name": "python3",
      "display_name": "Python 3"
    },
    "language_info": {
      "name": "python"
    },
    "accelerator": "GPU"
  },
  "cells": [
    {
      "cell_type": "markdown",
      "source": [
        "# Installation and Updation of Libraries"
      ],
      "metadata": {
        "id": "jdtRFAIH2JzL"
      }
    },
    {
      "cell_type": "code",
      "execution_count": null,
      "metadata": {
        "id": "G4aJc-BtIPfR"
      },
      "outputs": [],
      "source": [
        "!pip install --upgrade diffusers transformers tensorflow -q"
      ]
    },
    {
      "cell_type": "markdown",
      "source": [
        "Ensuring that the required packages are available and up to date, facilitating subsequent code execution that relies on these dependencies."
      ],
      "metadata": {
        "id": "9ulacwnl2ZhZ"
      }
    },
    {
      "cell_type": "markdown",
      "source": [
        "# Importing Libraries"
      ],
      "metadata": {
        "id": "NzJ_nZeD3CLB"
      }
    },
    {
      "cell_type": "code",
      "source": [
        "from pathlib import Path\n",
        "import tqdm\n",
        "import torch\n",
        "import pandas as pd\n",
        "import numpy as np\n",
        "from diffusers import StableDiffusionPipeline\n",
        "from transformers import pipeline, set_seed\n",
        "import matplotlib.pyplot as plt\n",
        "import cv2"
      ],
      "metadata": {
        "id": "PSQ71ZJdJSFR"
      },
      "execution_count": null,
      "outputs": []
    },
    {
      "cell_type": "markdown",
      "source": [
        "Preparing the environment by importing necessary modules and setting up the tools and libraries for subsequent data processing, machine learning and visualization tasks.\n",
        "\n",
        "\n",
        "*   **Path** : provides object-oriented filesystem paths.\n",
        "*   **tqdm** : provides fast, extensible progress bar for Python and CLI.\n",
        "*   **torch** : PyTorch library for deep learning tasks.\n",
        "*   **pandas** : for data manipulation and analysis.\n",
        "*   **numpy** : for numerical computing\n",
        "*   **StableDiffusionPipeline** : a powerful framework for text-to-image generation using diffusion models.\n",
        "*   **cv2** : used for computer vision tasks.\n",
        "\n",
        "\n",
        "\n",
        "\n",
        "\n",
        "\n",
        "\n"
      ],
      "metadata": {
        "id": "CwxXGZ6Ib6Ac"
      }
    },
    {
      "cell_type": "markdown",
      "source": [
        "# Configuration Settings"
      ],
      "metadata": {
        "id": "kFymSOWuecfB"
      }
    },
    {
      "cell_type": "code",
      "source": [
        "class CFG:\n",
        "  device = \"cpu\"\n",
        "  seed = 42\n",
        "  generator = torch.Generator(device).manual_seed(seed)\n",
        "  image_gen_steps = 35\n",
        "  image_gen_model_id = \"stabilityai/stable-diffusion-2\"\n",
        "  image_gen_size = (400,400)\n",
        "  image_gen_guidance_scale = 9\n",
        "  prompt_gen_model_id = \"gpt2\"\n",
        "  prompt_dataset_size = 6\n",
        "  prompt_max_length = 12"
      ],
      "metadata": {
        "id": "HdL7Sl8ELO-j"
      },
      "execution_count": null,
      "outputs": []
    },
    {
      "cell_type": "markdown",
      "source": [
        "Configuration class centralizes important parameters used throughout the codebase, facilitating easy adjustment and experimentation.\n",
        "\n",
        "*   **device** : Specifies the device for computation, set to \"**cuda**\" which indicates that the code will utilize GPU if available.\n",
        "*   **seed** : Sets the random seed for reproducibility to '**42**'.\n",
        "*   **generator** : Initializes a PyTorch random number generator ('**torch.Generator**') using the specified '**device**' and '**seed**'.\n",
        "*   **image_gen_steps** : Specifies the number of steps in the diffusion process for image generation. More steps often lead to higher quality images but increased processing time, set to '**35**'.\n",
        "*   **image_gen_model_id** : Identifies the pre-trained Stable Diffusion model to use for image generation.\n",
        "*   **image_gen_size** : Specifies the size of the generated image.\n",
        "*   **image_gen_guidance_scale** : Controls the influence of guidance on the image generation process.\n",
        "*   **prompt_gen_model_id** : Specifies the model to use for prompt generation.\n",
        "*   **prompt_dataset_size** : Determines the number of prompts to generate.\n",
        "*   **prompt_max_length** : Sets the maximum length of each generated prompt.\n",
        "\n",
        "\n",
        "\n",
        "\n",
        "\n"
      ],
      "metadata": {
        "id": "Exn5paK0fHbI"
      }
    },
    {
      "cell_type": "code",
      "source": [
        "image_gen_model = StableDiffusionPipeline.from_pretrained(\n",
        "    CFG.image_gen_model_id, torch_dtype=torch.float16,\n",
        "    revision=\"fp16\", use_auth_token=\"YOUR_HUGGINGFACE_AUTH_TOKEN\", guidance_scale = 9\n",
        ")\n",
        "image_gen_model = image_gen_model.to(CFG.device)"
      ],
      "metadata": {
        "id": "gRwCusxlRk-5"
      },
      "execution_count": null,
      "outputs": []
    },
    {
      "cell_type": "markdown",
      "source": [
        "Creating a pipeline for generating images using a pre-trained Stable Diffusion model, configured with specific settings like using half-precision float16 and setting the guidance scale. Also move the model to the appropriate device for execution."
      ],
      "metadata": {
        "id": "oZ99NtTjdVjg"
      }
    },
    {
      "cell_type": "code",
      "source": [
        "def generate_image(prompt, model):\n",
        "  image = model(\n",
        "      prompt, num_inference_steps=CFG.image_gen_steps,\n",
        "      generator = CFG.generator,\n",
        "      guidance_scale = CFG.image_gen_guidance_scale\n",
        "  ).images[0]\n",
        "\n",
        "  image = image.resize(CFG.image_gen_size)\n",
        "  return image"
      ],
      "metadata": {
        "id": "NzSQCixAp2dM"
      },
      "execution_count": null,
      "outputs": []
    },
    {
      "cell_type": "markdown",
      "source": [
        "Function to encapsulate the process of generating an image based on a prompt using a specified model and applying certain configuration parameters defined in the CFG class."
      ],
      "metadata": {
        "id": "Ngfr5KBifJu0"
      }
    },
    {
      "cell_type": "code",
      "source": [
        "generate_image(\"Burj Khalifa in Kerala\",image_gen_model)"
      ],
      "metadata": {
        "id": "YLA8yZZisV8j"
      },
      "execution_count": null,
      "outputs": []
    }
  ]
}